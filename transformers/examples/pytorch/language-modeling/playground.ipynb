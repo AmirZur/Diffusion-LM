{
 "cells": [
  {
   "cell_type": "code",
   "execution_count": 3,
   "metadata": {},
   "outputs": [],
   "source": [
    "import json\n",
    "import pandas as pd\n",
    "import os"
   ]
  },
  {
   "cell_type": "code",
   "execution_count": 18,
   "metadata": {},
   "outputs": [],
   "source": [
    "filename_in = 'out_gen/out_gen.json'\n",
    "filename_out = 'out_gen/out_gen_edited.json'\n",
    "\n",
    "with open(filename_in) as fin:\n",
    "    with open(filename_out, 'w+') as fout:\n",
    "        for line in fin:\n",
    "            fout.write(line.replace('\\'', '\\\"'))"
   ]
  },
  {
   "cell_type": "code",
   "execution_count": 24,
   "metadata": {},
   "outputs": [],
   "source": [
    "filename_out = 'out_gen/out_gen_edited.json'\n",
    "with open(filename_out) as fin:\n",
    "    data = json.load(fin)"
   ]
  },
  {
   "cell_type": "code",
   "execution_count": 29,
   "metadata": {},
   "outputs": [
    {
     "data": {
      "text/plain": [
       "'((TOP (S (ADVP (RB Next) (PP (IN to) (NP (DT the) (NNP Yippee) (NNP Noodle) (NNP Bar)))) (NP (EX there)) (VP (VBZ is) (NP (NP (DT a) (ADJP (RB moderately) (JJ good)) (NN restaurant)) (VP (VBN called) (S (NP (NNP Alimentum)))))) (. .) (. \\n))),)'"
      ]
     },
     "execution_count": 29,
     "metadata": {},
     "output_type": "execute_result"
    }
   ],
   "source": [
    "key = list(data.keys())[0]\n",
    "key"
   ]
  },
  {
   "cell_type": "code",
   "execution_count": 30,
   "metadata": {},
   "outputs": [
    {
     "data": {
      "text/plain": [
       "640"
      ]
     },
     "execution_count": 30,
     "metadata": {},
     "output_type": "execute_result"
    }
   ],
   "source": [
    "values = data[key]\n",
    "len(values)"
   ]
  },
  {
   "cell_type": "code",
   "execution_count": 40,
   "metadata": {},
   "outputs": [
    {
     "name": "stdout",
     "output_type": "stream",
     "text": [
      "----------------------------------------------\n",
      "average UNK near an a food , Waterman low 5 The of . Golden The is UNK is range more has a Bells customer , a food a food UNK the a friendly . serves average UNK The is range prices UNK food customer is UNK . is The a food UNK UNK UNK food 5 and Â£ in , cheap UNK The a\n",
      "----------------------------------------------\n",
      ", UNK a 5 The Wrestlers , START low 5 rating UNK . of The is UNK END The UNK is a a Golden UNK a friendly UNK a Strada the UNK food Located a riverside is UNK Waterman range UNK UNK food customer is UNK a is UNK a food UNK UNK Golden Golden 5 customer UNK the , UNK UNK UNK Indian\n",
      "----------------------------------------------\n",
      "Boat Â£ the 5 CafÃ© Punter . START low 5 rating and . The The , \n",
      " END START UNK is a friendly friendly UNK a friendly customer START UNK the range , . The Riverside a . CafÃ© 5 UNK UNK food are is UNK a , UNK UNK Â£ UNK UNK Cambridge food 5 rating UNK are . UNK UNK food UNK\n",
      "----------------------------------------------\n",
      "customer Â£ the 5 CafÃ© Wrestlers . a low 5 rating and . The The shop \n",
      " END START UNK is a friendly friendly UNK customer a customer UNK It food are of Boat UNK a Golden a Waterman \n",
      " UNK UNK a is is the a is UNK UNK Golden UNK UNK . food 5 a UNK are , UNK UNK Â£ UNK\n",
      "----------------------------------------------\n",
      ", Â£ the 5 CafÃ© Wrestlers has a low 5 rating and . The The shop \n",
      " END START UNK is a friendly friendly UNK a a customer rating of 3 out of 5 CafÃ© the Golden . out \n",
      " END UNK a . the the are a , Golden UNK the The , food 5 rating UNK over . UNK Located Â£ UNK\n",
      "----------------------------------------------\n",
      "food Â£ the 5 CafÃ© Wrestlers has a low 5 rating food is of friendly . \n",
      " END START UNK is a friendly friendly restaurant with a customer rating of 3 out of 5 The The Golden . . \n",
      " END START the UNK the the Indian food , 1 Golden the . serve are 5 the UNK friendly , UNK UNK Â£ are\n",
      "----------------------------------------------\n",
      "than Â£ 20 5 CafÃ© Sicilia . a low customer rating and is of friendly . \n",
      " END START There is a family friendly restaurant with a customer rating of 3 out of 5 named The Golden Curry . \n",
      " END START a UNK END a Indian food , I Golden the . Cambridge food UNK START of a price Strada UNK Â£ of\n",
      "----------------------------------------------\n",
      "than Â£ 20 5 CafÃ© Sicilia has a low customer rating and is of friendly . \n",
      " END START There is a family friendly restaurant with a customer rating of 3 out of 5 named The Golden Curry . \n",
      " END START has are END a Indian pub , I Â£ are UNK a food UNK START of a Boat food UNK Â£ ,\n",
      "----------------------------------------------\n",
      "than Â£ 20 near CafÃ© Sicilia has a low customer rating and is The friendly . \n",
      " END START There is a family friendly restaurant with a customer rating of 3 out of 5 named The Golden Curry . \n",
      " END START I options is a Indian pub , I would UNK UNK if have UNK UNK of a food UNK UNK it range\n",
      "----------------------------------------------\n",
      "than Â£ 20 near CafÃ© Sicilia has a low customer rating and is family friendly . \n",
      " END START There is a family friendly restaurant with a customer rating of 3 out of 5 named The Golden Curry . \n",
      " END START I options is a Indian pub , I would UNK UNK if have UNK UNK of a UNK UNK UNK it UNK\n"
     ]
    }
   ],
   "source": [
    "sequence = [v for i, v in enumerate(values) if i % 64 == 5]\n",
    "for s in sequence:\n",
    "    print('----------------------------------------------')\n",
    "    print(s)"
   ]
  },
  {
   "cell_type": "code",
   "execution_count": 41,
   "metadata": {},
   "outputs": [
    {
     "name": "stdout",
     "output_type": "stream",
     "text": [
      "----------------------------------------------\n",
      ". END high food river CafÃ© friendly The low 5 UNK less UNK . is The UNK END is and UNK UNK Waterman Â£ UNK . of food Cambridge of UNK UNK is The , UNK centre a Located food and , is a friendly rating the UNK , The food . 5 a END 5 food are The UNK friendly UNK is are\n",
      "----------------------------------------------\n",
      "a are food food centre CafÃ© friendly START low 5 UNK less UNK Cambridge is The UNK END is , UNK UNK UNK Â£ UNK . is food START of UNK average is the are UNK range a Located the CafÃ© , is UNK UNK rating the UNK Boat a English a Â£ a the Hall are food rating UNK Golden UNK . a\n",
      "----------------------------------------------\n",
      "a Hall food 5 END Adriatic a Centre low 5 UNK less UNK , is The UNK END is Boat UNK a UNK UNK UNK . is END START The customer Boat is The is friendly food a Golden END a the is UNK UNK UNK are UNK friendly START Strada a customer a are the are food UNK UNK Golden The a UNK\n",
      "----------------------------------------------\n",
      "UNK Hall UNK affordable river START The Centre , 5 UNK less UNK , is a low END , , UNK a UNK are UNK . \n",
      " END START The is Boat is a is friendly food a UNK UNK has UNK is UNK UNK UNK a the friendly , Strada a friendly UNK are UNK are food UNK is Golden UNK a are\n",
      "----------------------------------------------\n",
      "UNK average . affordable END Adriatic The Centre , 5 UNK less UNK , is a low END , , UNK a UNK is friendly . \n",
      " END START The UNK Boat is a Boat friendly food food UNK are a UNK , UNK UNK The a is , , Strada a UNK food Wildwood UNK are food the UNK Golden UNK are are\n",
      "----------------------------------------------\n",
      "of Boat . \n",
      " END START The Plough , 5 near CafÃ© UNK , is a low priced Indian , with a UNK 5 UNK . \n",
      " END START The Rice Boat is a are friendly food restaurant UNK are friendly UNK for Golden . UNK Boat \n",
      " . START Strada a a range a Golden of food Strada UNK friendly UNK CafÃ© are\n",
      "----------------------------------------------\n",
      "of 5 . \n",
      " END START The Waterman , 5 near CafÃ© UNK , is a moderately priced CafÃ© , with a kid friendly friendly . \n",
      " END START The Rice Boat is a kid friendly food restaurant . average Boat UNK Waterman Golden are UNK , \n",
      " END START Wildwood is friendly pub a Golden of food are Strada friendly The START a\n",
      "----------------------------------------------\n",
      "of 5 . \n",
      " END START The Plough , located near CafÃ© Rouge , is a moderately priced Indian pub with a kid friendly friendly . \n",
      " END START The Rice Boat is a kid friendly Indian restaurant . Boat customer UNK The friendly a rating . \n",
      " END START Wildwood is a pub that serves UNK food average , UNK Rouge START a\n",
      "----------------------------------------------\n",
      "of 5 . \n",
      " END START The Plough , located near CafÃ© Rouge , is a moderately priced Chinese pub with a kid friendly atmosphere . \n",
      " END START The Rice Boat is a kid friendly Indian restaurant . are customer UNK The a riverside rating . \n",
      " END START Wildwood is a pub that serves Chinese food . UNK UNK have START a\n",
      "----------------------------------------------\n",
      "of 5 . \n",
      " END START The Plough , located near CafÃ© Rouge , is a moderately priced Chinese pub with a kid friendly atmosphere . \n",
      " END START The Rice Boat is a kid friendly Indian restaurant . UNK customer UNK are a riverside rating . \n",
      " END START Wildwood is a pub that serves Chinese food . UNK UNK have given a\n"
     ]
    }
   ],
   "source": [
    "sequence = [v for i, v in enumerate(values) if i % 64 == 6]\n",
    "for s in sequence:\n",
    "    print('----------------------------------------------')\n",
    "    print(s)"
   ]
  },
  {
   "cell_type": "code",
   "execution_count": 61,
   "metadata": {},
   "outputs": [
    {
     "name": "stdout",
     "output_type": "stream",
     "text": [
      "----------------------------------------------\n",
      "is friendly the 5 range It UNK , low 5 It friendly . of are The of 5 of friendly are are is UNK food suited a Golden the UNK UNK Golden Cambridge UNK The the UNK The Bibimbap food START UNK the are 5 a low a UNK a a a friendly . 5 the are food average the is Fitzbillies END friendly\n",
      "----------------------------------------------\n",
      "the friendly the 5 CafÃ© It , Grove low 5 is friendly . Mill The The of END of friendly are a END UNK , food a Indian the UNK UNK provides Boat UNK The the range . UNK . START UNK the Golden The UNK UNK I friendly a a Not friendly . 5 the are food UNK are UNK Boat END friendly\n",
      "----------------------------------------------\n",
      "the friendly The 5 . Adriatic , , low 5 is less . Mill CafÃ© The UNK END of friendly are UNK UNK UNK food friendly a UNK the UNK UNK provides UNK UNK the the are . \n",
      " UNK START UNK the a UNK UNK Boat food UNK a a a friendly UNK the the are , UNK UNK UNK Cambridge END a\n",
      "----------------------------------------------\n",
      "the price UNK 5 . It , a low 5 CafÃ© less . Mill The Prices UNK END START friendly are are UNK UNK , friendly average Boat food UNK the a Golden UNK the UNK \n",
      " . \n",
      " END START UNK UNK rating UNK UNK UNK food UNK a . a friendly . the the UNK , UNK UNK a Cambridge END START\n",
      "----------------------------------------------\n",
      "5 price The 5 . It , a low 5 of friendly . of UNK The Strada END START friendly are friendly UNK UNK , a food UNK are UNK are a Golden UNK the UNK are . \n",
      " END START Located near rating 5 UNK UNK food UNK are . a UNK . English have are , UNK UNK a of Boat range\n",
      "----------------------------------------------\n",
      "Strada out of 5 . It has a low 5 of less out of Located The \n",
      " END START has are UNK UNK The , a range friendly a UNK UNK a Golden UNK a UNK are . \n",
      " END START Located near The UNK of friendly , UNK are , a food . English the are English UNK UNK a Fitzbillies rating range\n",
      "----------------------------------------------\n",
      "5 out of 5 . It has a low 5 of friendly out of 5 The \n",
      " END START I are UNK UNK UNK , Midsummer UNK friendly the UNK UNK a Â£ provides The UNK Â£ . \n",
      " END START Located near The UNK friendly , The Golden Boat has a food . over the are than food it and are price range\n",
      "----------------------------------------------\n",
      "5 out of 5 . It has a low rating of 3 out of 5 . \n",
      " END START I the friendly UNK The , Midsummer Boat , a UNK UNK a Â£ with UNK UNK Golden . \n",
      " END START Located near The Six Bells , The Golden Boat has Indian food . over the average than Â£ the - are price range\n",
      "----------------------------------------------\n",
      "5 out of 5 . It has a customer rating of 3 out of 5 . \n",
      " END START I would UNK UNK UNK , Midsummer House , a UNK UNK , Â£ with UNK UNK UNK . \n",
      " END START Located near The Six Bells , The Golden Curry has Indian food . In the less than Â£ 20 - 25 price range\n",
      "----------------------------------------------\n",
      "5 out of 5 . It has a customer rating of 3 out of 5 . \n",
      " END START I would UNK UNK UNK , Midsummer House , a UNK UNK , fancy with UNK UNK UNK . \n",
      " END START Located near The Six Bells , The Golden Curry has Indian food . In the less than Â£ 20 - 25 price range\n"
     ]
    }
   ],
   "source": [
    "sequence = [v for i, v in enumerate(values) if i % 64 == 8]\n",
    "for s in sequence:\n",
    "    print('----------------------------------------------')\n",
    "    print(s)"
   ]
  },
  {
   "cell_type": "code",
   "execution_count": 68,
   "metadata": {},
   "outputs": [
    {
     "name": "stdout",
     "output_type": "stream",
     "text": [
      "\n",
      " UNK the are 5 a low a UNK a a a friendly . 5 the are food average the is Fitzbillies \n",
      "\n",
      " UNK the Golden The UNK UNK I friendly a a Not friendly . 5 the are food UNK are UNK Boat \n",
      "\n",
      " UNK the a UNK UNK Boat food UNK a a a friendly UNK the the are , UNK UNK UNK Cambridge \n",
      "\n",
      " UNK UNK rating UNK UNK UNK food UNK a . a friendly . the the UNK , UNK UNK a Cambridge \n",
      "\n",
      " Located near rating 5 UNK UNK food UNK are . a UNK . English have are , UNK UNK a of Boat range\n",
      "\n",
      " Located near The UNK of friendly , UNK are , a food . English the are English UNK UNK a Fitzbillies rating range\n",
      "\n",
      " Located near The UNK friendly , The Golden Boat has a food . over the are than food it and are price range\n",
      "\n",
      " Located near The Six Bells , The Golden Boat has Indian food . over the average than Â£ the - are price range\n",
      "\n",
      " Located near The Six Bells , The Golden Curry has Indian food . In the less than Â£ 20 - 25 price range\n",
      "\n",
      " Located near The Six Bells , The Golden Curry has Indian food . In the less than Â£ 20 - 25 price range\n"
     ]
    }
   ],
   "source": [
    "import re\n",
    "\n",
    "sequence = [v for i, v in enumerate(values) if i % 64 == 8]\n",
    "\n",
    "gen_outputs = []\n",
    "for line in sequence:\n",
    "    output = re.split('START|END', line)\n",
    "    cleaned_output = [o for o in output if len(o.strip().split()) > 1]\n",
    "    gen_outputs.append(cleaned_output[-1])\n",
    "\n",
    "for output in gen_outputs:\n",
    "    print()\n",
    "    print(output)"
   ]
  },
  {
   "cell_type": "code",
   "execution_count": null,
   "metadata": {},
   "outputs": [],
   "source": []
  }
 ],
 "metadata": {
  "kernelspec": {
   "display_name": "Python 3.9.13 ('diffusion')",
   "language": "python",
   "name": "python3"
  },
  "language_info": {
   "codemirror_mode": {
    "name": "ipython",
    "version": 3
   },
   "file_extension": ".py",
   "mimetype": "text/x-python",
   "name": "python",
   "nbconvert_exporter": "python",
   "pygments_lexer": "ipython3",
   "version": "3.9.13"
  },
  "orig_nbformat": 4,
  "vscode": {
   "interpreter": {
    "hash": "c07297035bbac9acc51ba86a7043b9ff41a51fec2f16e5eed70e61b74489732e"
   }
  }
 },
 "nbformat": 4,
 "nbformat_minor": 2
}
